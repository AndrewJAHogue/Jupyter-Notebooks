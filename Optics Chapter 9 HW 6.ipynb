{
 "cells": [
  {
   "cell_type": "markdown",
   "metadata": {},
   "source": [
    "Exercises for Chapter 9 of the *Physics of Light and Optics*, Peatross, Ware, Brigham Young University"
   ]
  },
  {
   "cell_type": "markdown",
   "metadata": {},
   "source": [
    "PAGE 1\n",
    "#6"
   ]
  },
  {
   "cell_type": "code",
   "execution_count": 211,
   "metadata": {},
   "outputs": [
    {
     "name": "stdout",
     "output_type": "stream",
     "text": [
      "sqrt(10)\n"
     ]
    }
   ],
   "source": [
    "import sympy as s\n",
    "import math\n",
    "print(s.sqrt(10))\n"
   ]
  },
  {
   "cell_type": "markdown",
   "metadata": {},
   "source": [
    "sympy has all the same math functions as 'math'"
   ]
  },
  {
   "cell_type": "code",
   "execution_count": 212,
   "metadata": {},
   "outputs": [],
   "source": [
    "import sympy as s\n",
    "import math\n",
    "L = s.Symbol('L')\n",
    "R = s.Symbol('R')"
   ]
  },
  {
   "cell_type": "code",
   "execution_count": 213,
   "metadata": {},
   "outputs": [],
   "source": [
    "import numpy as np\n",
    "distance_matrix = np.array([[1,L], [0, 1]])\n",
    "curved_matrix = np.array([[1, 0], [(-2/R), 1]])"
   ]
  },
  {
   "cell_type": "code",
   "execution_count": 214,
   "metadata": {},
   "outputs": [
    {
     "name": "stdout",
     "output_type": "stream",
     "text": [
      "[[-2*L/R + 1 L*(-2*L/R + 1) + L]\n",
      " [-2/R -2*L/R + 1]]\n"
     ]
    }
   ],
   "source": [
    "resultant = distance_matrix.dot(curved_matrix)\n",
    "resultant = resultant.dot(distance_matrix)\n",
    "print(resultant)"
   ]
  },
  {
   "cell_type": "code",
   "execution_count": 215,
   "metadata": {},
   "outputs": [
    {
     "name": "stdout",
     "output_type": "stream",
     "text": [
      "[[-2*L/R + 1 L*(-2*L/R + 1) + L]\n",
      " [-2/R -2*L/R + 1]]\n"
     ]
    }
   ],
   "source": [
    "I = np.array([[1,0],[0,1]])\n",
    "\n",
    "resultant = resultant.dot(I)\n",
    "print(resultant)"
   ]
  },
  {
   "cell_type": "markdown",
   "metadata": {},
   "source": [
    "PAGE 2\n",
    "#7"
   ]
  },
  {
   "cell_type": "code",
   "execution_count": 216,
   "metadata": {},
   "outputs": [],
   "source": [
    "R1 = s.Symbol('R1')\n",
    "n1 = s.Symbol('n1')\n",
    "R2 = s.Symbol('R2')\n",
    "n2 = s.Symbol('n2')\n",
    "d = s.Symbol('d')"
   ]
  },
  {
   "cell_type": "code",
   "execution_count": 217,
   "metadata": {},
   "outputs": [
    {
     "name": "stdout",
     "output_type": "stream",
     "text": [
      "[[L*(n1/n2 - 1)/R1 + 1 L*n1/n2]\n",
      " [(-1 + n2/n1)/R2 + (n1/n2 - 1)*(L*(-1 + n2/n1)/R2 + n2/n1)/R1\n",
      "  n1*(L*(-1 + n2/n1)/R2 + n2/n1)/n2]]\n"
     ]
    }
   ],
   "source": [
    "\n",
    "refraction_matrix1 = np.array([[1, 0], [(1/R2)*((n2/n1)-1), (n2/n1)]])\n",
    "refraction_matrix2 = np.array([[1, 0], [(1/R1)*((n1/n2)-1), (n1/n2)]])\n",
    "L = d\n",
    "abcd = (refraction_matrix1.dot(distance_matrix)).dot(refraction_matrix2)\n",
    "print(abcd)"
   ]
  },
  {
   "cell_type": "markdown",
   "metadata": {},
   "source": [
    "This also works"
   ]
  },
  {
   "cell_type": "code",
   "execution_count": 225,
   "metadata": {},
   "outputs": [
    {
     "data": {
      "text/latex": [
       "$\\displaystyle \\left[\\begin{matrix}1 + \\frac{d \\left(\\frac{n_{1}}{n_{2}} - 1\\right)}{R_{1}} & \\frac{d n_{1}}{n_{2}}\\\\\\frac{-1 + \\frac{n_{2}}{n_{1}}}{R_{2}} + \\frac{\\left(\\frac{n_{2}}{n_{1}} + \\frac{d \\left(-1 + \\frac{n_{2}}{n_{1}}\\right)}{R_{2}}\\right) \\left(\\frac{n_{1}}{n_{2}} - 1\\right)}{R_{1}} & \\frac{n_{1} \\left(\\frac{n_{2}}{n_{1}} + \\frac{d \\left(-1 + \\frac{n_{2}}{n_{1}}\\right)}{R_{2}}\\right)}{n_{2}}\\end{matrix}\\right]$"
      ],
      "text/plain": [
       "Matrix([\n",
       "[                                        1 + d*(n1/n2 - 1)/R1,                           d*n1/n2],\n",
       "[(-1 + n2/n1)/R2 + (n2/n1 + d*(-1 + n2/n1)/R2)*(n1/n2 - 1)/R1, n1*(n2/n1 + d*(-1 + n2/n1)/R2)/n2]])"
      ]
     },
     "execution_count": 225,
     "metadata": {},
     "output_type": "execute_result"
    }
   ],
   "source": [
    "\n",
    "from sympy.matrices import Matrix\n",
    "\n",
    "refraction_matrix1 = Matrix([[1, 0], [(1/R2)*((n2/n1)-1), (n2/n1)]])\n",
    "refraction_matrix2 = Matrix([[1, 0], [(1/R1)*((n1/n2)-1), (n1/n2)]])\n",
    "distance_matrix = Matrix([[1,L], [0, 1]])\n",
    "abcd = refraction_matrix1 * distance_matrix * refraction_matrix2 \n",
    "abcd"
   ]
  },
  {
   "cell_type": "markdown",
   "metadata": {},
   "source": [
    "The Thick Lens ABCD matrix"
   ]
  },
  {
   "cell_type": "markdown",
   "metadata": {},
   "source": [
    "PAGE 3\n",
    "#8\n"
   ]
  },
  {
   "cell_type": "markdown",
   "metadata": {},
   "source": [
    "a)"
   ]
  },
  {
   "cell_type": "code",
   "execution_count": 219,
   "metadata": {},
   "outputs": [
    {
     "data": {
      "text/latex": [
       "$\\displaystyle \\left[\\begin{matrix}1 & 0\\\\\\frac{-1 + \\frac{n_{2}}{n_{1}}}{R_{2}} + \\frac{n_{2} \\left(\\frac{n_{1}}{n_{2}} - 1\\right)}{R_{1} n_{1}} & 1\\end{matrix}\\right]$"
      ],
      "text/plain": [
       "Matrix([\n",
       "[                                       1, 0],\n",
       "[(-1 + n2/n1)/R2 + n2*(n1/n2 - 1)/(R1*n1), 1]])"
      ]
     },
     "execution_count": 219,
     "metadata": {},
     "output_type": "execute_result"
    }
   ],
   "source": [
    "# L = 0\n",
    "\n",
    "f = abcd.subs(L, 0)\n",
    "f"
   ]
  },
  {
   "cell_type": "markdown",
   "metadata": {},
   "source": [
    "b)"
   ]
  },
  {
   "cell_type": "code",
   "execution_count": 220,
   "metadata": {},
   "outputs": [
    {
     "data": {
      "text/latex": [
       "$\\displaystyle \\left[\\begin{matrix}d \\left(-1 + \\frac{1}{n_{2}}\\right) + 1 & \\frac{d}{n_{2}}\\\\n_{2} + \\left(-1 + \\frac{1}{n_{2}}\\right) \\left(d \\left(n_{2} - 1\\right) + n_{2}\\right) - 1 & \\frac{d \\left(n_{2} - 1\\right) + n_{2}}{n_{2}}\\end{matrix}\\right]$"
      ],
      "text/plain": [
       "Matrix([\n",
       "[                     d*(-1 + 1/n2) + 1,                 d/n2],\n",
       "[n2 + (-1 + 1/n2)*(d*(n2 - 1) + n2) - 1, (d*(n2 - 1) + n2)/n2]])"
      ]
     },
     "execution_count": 220,
     "metadata": {},
     "output_type": "execute_result"
    }
   ],
   "source": [
    "# n1 = 1\n",
    "# R1 = 0 \n",
    "# R2 = 0\n",
    "del f\n",
    "f = abcd.subs(n1, 1)\n",
    "f = f.subs(R1, 1)\n",
    "f = f.subs(R2, 1)\n",
    "f"
   ]
  },
  {
   "cell_type": "markdown",
   "metadata": {},
   "source": [
    "PAGE 4\n",
    "#11\n"
   ]
  },
  {
   "cell_type": "code",
   "execution_count": 221,
   "metadata": {},
   "outputs": [],
   "source": [
    "def DistanceMatrix(d):\n",
    "    return Matrix([[1, d], [0, 1]])\n",
    "def ReflectionMatrix(f):\n",
    "    return Matrix([[1, 0], [(-1/f), 1]])"
   ]
  },
  {
   "cell_type": "code",
   "execution_count": 233,
   "metadata": {},
   "outputs": [],
   "source": [
    "di = s.Symbol('di')\n",
    "f = s.Symbol('f')\n",
    "do = s.Symbol('do')\n",
    "a = DistanceMatrix(di)\n",
    "b = ReflectionMatrix(f)\n",
    "c = DistanceMatrix(do)\n",
    "\n",
    "\n",
    "d = Matrix(a*b*c)\n",
    "B = d[0,1]\n",
    "ans = s.solveset(s.Eq(B,0), 1/f)"
   ]
  },
  {
   "cell_type": "markdown",
   "metadata": {},
   "source": [
    "PAGE 5\n",
    "#14"
   ]
  },
  {
   "cell_type": "code",
   "execution_count": 248,
   "metadata": {},
   "outputs": [],
   "source": [
    "def RefractionMatrix(R, n1, n2):\n",
    "    return Matrix([[1, 0], [(1/R)*((n1/n2)-1), (n1/n2)]])\n",
    "\n",
    "def ThickLens(R1, R2, n1, n2, d):\n",
    "    return (RefractionMatrix(R2, n2, n1) * DistanceMatrix(d) * RefractionMatrix(R1, n1, n2) )"
   ]
  },
  {
   "cell_type": "markdown",
   "metadata": {},
   "source": [
    "a) \n",
    "    d = 5 cm, R1 = 5 cm, R2 = -10 cm, n1 = 1, n2 = 1.5"
   ]
  },
  {
   "cell_type": "code",
   "execution_count": 250,
   "metadata": {},
   "outputs": [
    {
     "data": {
      "text/latex": [
       "$\\displaystyle \\left[\\begin{matrix}0.666666666666667 & 3.33333333333333\\\\-0.133333333333333 & 0.833333333333333\\end{matrix}\\right]$"
      ],
      "text/plain": [
       "Matrix([\n",
       "[ 0.666666666666667,  3.33333333333333],\n",
       "[-0.133333333333333, 0.833333333333333]])"
      ]
     },
     "execution_count": 250,
     "metadata": {},
     "output_type": "execute_result"
    }
   ],
   "source": [
    "a = ThickLens(5, -10, 1, 1.5, 5)\n",
    "a"
   ]
  },
  {
   "cell_type": "markdown",
   "metadata": {},
   "source": [
    "b)\n",
    "    Principle planes? Effective focal length?\n",
    "    Unit Planes\n",
    "\n",
    "    du1 = (1-B)/A"
   ]
  },
  {
   "cell_type": "code",
   "execution_count": 264,
   "metadata": {},
   "outputs": [
    {
     "data": {
      "text/plain": [
       "(-3.50000000000000, -1.70000000000000)"
      ]
     },
     "execution_count": 264,
     "metadata": {},
     "output_type": "execute_result"
    }
   ],
   "source": [
    "A, B, C, D = s.symbols('A, B, C, D')\n",
    "du1 = (1-B)/A\n",
    "plane_one = du1.subs(B, a[0,1]).subs(A, a[0,0])\n",
    "\n",
    "du2 = (C-1)/A\n",
    "plane_two = du2.subs(C, a[1,0]).subs(A, a[0,0])\n",
    "plane_one, plane_two"
   ]
  },
  {
   "cell_type": "markdown",
   "metadata": {},
   "source": [
    "PAGE 6\n",
    "#16\n",
    "T_1 = 0.357\n",
    "R_11 = 1.628\n",
    "R_12 = 27.57\n",
    "n1 = 1.6116\n",
    "\n",
    "d_12 = 0.189\n",
    "\n",
    "T_2 = 0.081\n",
    "R_21 = 3.457\n",
    "R_22 = 1.582\n",
    "n2 = 1.6053\n",
    "\n",
    "d_23 = 0.325\n",
    "\n",
    "T_3 = 0.217\n",
    "R_31 = infinite (straight)\n",
    "R_32 = 1.920\n",
    "n3 = 1.5123\n",
    "d_34 = 0\n",
    "\n",
    "T_4 = 0.396\n",
    "R_41 = 1.920\n",
    "R_42 = 2.400\n",
    "n4 = 1.6116\n"
   ]
  },
  {
   "cell_type": "code",
   "execution_count": null,
   "metadata": {},
   "outputs": [],
   "source": [
    "def ThinLens(f):\n",
    "    return Matrix([[1, 0], [(-1/f), 1]])"
   ]
  },
  {
   "cell_type": "code",
   "execution_count": 274,
   "metadata": {},
   "outputs": [],
   "source": [
    "T_1 = 0.357\n",
    "R_11 = 1.628\n",
    "R_12 = 27.57\n",
    "n1 = 1.6116\n",
    "\n",
    "d_12 = 0.189\n",
    "\n",
    "T_2 = 0.081\n",
    "R_21 = 3.457\n",
    "R_22 = 1.582\n",
    "n2 = 1.6053\n",
    "\n",
    "d_23 = 0.325\n",
    "\n",
    "T_3 = 0.217\n",
    "# R_31 = infinite (straight)\n",
    "R_31 = 1\n",
    "R_32 = 1.920\n",
    "n3 = 1.5123\n",
    "d_34 = 0\n",
    "\n",
    "T_4 = 0.396\n",
    "R_41 = 1.920\n",
    "R_42 = 2.400\n",
    "n4 = 1.6116"
   ]
  },
  {
   "cell_type": "code",
   "execution_count": 283,
   "metadata": {},
   "outputs": [
    {
     "data": {
      "text/latex": [
       "$\\displaystyle \\left[\\begin{matrix}1.20528921340999 & 1.46714888118975\\\\0.120464091646203 & 0.976312360709721\\end{matrix}\\right]$"
      ],
      "text/plain": [
       "Matrix([\n",
       "[ 1.20528921340999,  1.46714888118975],\n",
       "[0.120464091646203, 0.976312360709721]])"
      ]
     },
     "execution_count": 283,
     "metadata": {},
     "output_type": "execute_result"
    }
   ],
   "source": [
    "lens_43 = ThickLens(R_42, R_41, n4, n3, T_4 + T_3)\n",
    "distance_32 = DistanceMatrix(d_23)\n",
    "lens_2 = ThickLens(R_22, R_21, 1, n2, T_2)\n",
    "distance_21 = DistanceMatrix(d_12)\n",
    "lens_1 = ThickLens(R_12, R_11, 1, n1, T_1)\n",
    "\n",
    "system = lens_43*distance_32*lens_2*distance_21*lens_1\n",
    "system"
   ]
  }
 ],
 "metadata": {
  "interpreter": {
   "hash": "e7370f93d1d0cde622a1f8e1c04877d8463912d04d973331ad4851f04de6915a"
  },
  "kernelspec": {
   "display_name": "Python 3.8.10 64-bit",
   "language": "python",
   "name": "python3"
  },
  "language_info": {
   "codemirror_mode": {
    "name": "ipython",
    "version": 3
   },
   "file_extension": ".py",
   "mimetype": "text/x-python",
   "name": "python",
   "nbconvert_exporter": "python",
   "pygments_lexer": "ipython3",
   "version": "3.8.10"
  },
  "orig_nbformat": 4
 },
 "nbformat": 4,
 "nbformat_minor": 2
}
