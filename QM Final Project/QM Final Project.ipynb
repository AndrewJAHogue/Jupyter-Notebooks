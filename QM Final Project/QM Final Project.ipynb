{
 "cells": [
  {
   "cell_type": "markdown",
   "metadata": {},
   "source": [
    "Problem 4.54\n",
    "What is the probability that an electron in the ground state of hydrogen will be found inside the nucleus?"
   ]
  },
  {
   "cell_type": "markdown",
   "metadata": {},
   "source": [
    "Part a) Calculate the *exact* answer, assuming the wave function is correct all the way down to $r=0$ let *b* be the radius of the nucleus."
   ]
  },
  {
   "cell_type": "code",
   "execution_count": 1,
   "metadata": {},
   "outputs": [],
   "source": [
    "import sympy as s\n",
    "from sympy.abc import pi, r, a, e, theta, phi, b\n",
    "from sympy import sin, cos\n",
    "import math"
   ]
  },
  {
   "cell_type": "code",
   "execution_count": 2,
   "metadata": {},
   "outputs": [],
   "source": [
    "psi_100 = 1 / ( s.sqrt(pi*a**3) ) * e**(-r/a) # dependent upon r, theta, phi\n",
    "radial_comp = psi_100**2 * r**2 \n",
    "angular_comp = sin(theta)"
   ]
  },
  {
   "cell_type": "code",
   "execution_count": 5,
   "metadata": {},
   "outputs": [
    {
     "data": {
      "text/latex": [
       "$\\displaystyle \\frac{e^{- \\frac{r}{a}}}{\\sqrt{a^{3} \\pi}}$"
      ],
      "text/plain": [
       "1/(e**(r/a)*sqrt(a**3*pi))"
      ]
     },
     "execution_count": 5,
     "metadata": {},
     "output_type": "execute_result"
    }
   ],
   "source": [
    "psi_100"
   ]
  },
  {
   "cell_type": "code",
   "execution_count": 3,
   "metadata": {},
   "outputs": [],
   "source": [
    "r = s.integrate(radial_comp, (r, 0, b))\n",
    "t = s.integrate(angular_comp, (theta, 0, math.pi))\n",
    "p = s.integrate(1, (theta, 0, 2*pi))\n",
    "ans = r.args[1][0] * t * p\n",
    "ans"
   ]
  }
 ],
 "metadata": {
  "interpreter": {
   "hash": "e7370f93d1d0cde622a1f8e1c04877d8463912d04d973331ad4851f04de6915a"
  },
  "kernelspec": {
   "display_name": "Python 3.8.10 64-bit",
   "language": "python",
   "name": "python3"
  },
  "language_info": {
   "codemirror_mode": {
    "name": "ipython",
    "version": 3
   },
   "file_extension": ".py",
   "mimetype": "text/x-python",
   "name": "python",
   "nbconvert_exporter": "python",
   "pygments_lexer": "ipython3",
   "version": "3.8.10"
  },
  "orig_nbformat": 4
 },
 "nbformat": 4,
 "nbformat_minor": 2
}
