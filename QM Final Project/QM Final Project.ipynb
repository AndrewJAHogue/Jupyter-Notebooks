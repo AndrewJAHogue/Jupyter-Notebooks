{
 "cells": [
  {
   "cell_type": "markdown",
   "metadata": {},
   "source": [
    "Problem 4.54\n",
    "What is the probability that an electron in the ground state of hydrogen will be found inside the nucleus?"
   ]
  },
  {
   "cell_type": "markdown",
   "metadata": {},
   "source": [
    "Part a) Calculate the *exact* answer, assuming the wave function is correct all the way down to $r=0$ let *b* be the radius of the nucleus."
   ]
  },
  {
   "cell_type": "code",
   "execution_count": 1,
   "metadata": {},
   "outputs": [],
   "source": [
    "import sympy as s\n",
    "from sympy.abc import pi, r, a, e, theta, phi, b, epsilon\n",
    "from sympy import sin, cos, log\n",
    "import numpy as np"
   ]
  },
  {
   "cell_type": "code",
   "execution_count": 2,
   "metadata": {},
   "outputs": [],
   "source": [
    "psi_100 = 1 / ( s.sqrt(pi*a**3) ) * e**(-r/a) # dependent upon r, theta, phi\n",
    "radial_comp = psi_100**2 * r**2 \n",
    "angular_comp = sin(theta)"
   ]
  },
  {
   "cell_type": "code",
   "execution_count": 3,
   "metadata": {},
   "outputs": [
    {
     "data": {
      "text/latex": [
       "$\\displaystyle \\frac{e^{- \\frac{r}{a}}}{\\sqrt{a^{3} \\pi}}$"
      ],
      "text/plain": [
       "1/(e**(r/a)*sqrt(a**3*pi))"
      ]
     },
     "execution_count": 3,
     "metadata": {},
     "output_type": "execute_result"
    }
   ],
   "source": [
    "psi_100"
   ]
  },
  {
   "cell_type": "code",
   "execution_count": 4,
   "metadata": {},
   "outputs": [
    {
     "data": {
      "text/latex": [
       "$\\displaystyle \\frac{e^{- \\frac{2.0 b}{a}} \\left(a^{2} e^{\\frac{2.0 b}{a}} - 1.0 a^{2} - 2.0 a b - 2.0 b^{2}\\right)}{a^{2}}$"
      ],
      "text/plain": [
       "(a**2*e**(2.0*b/a) - 1.0*a**2 - 2.0*a*b - 2.0*b**2)/(a**2*e**(2.0*b/a))"
      ]
     },
     "execution_count": 4,
     "metadata": {},
     "output_type": "execute_result"
    }
   ],
   "source": [
    "integral_radial = s.integrate(radial_comp, (r, 0, b))\n",
    "integral_radial = (integral_radial.args[0][0]).evalf(subs={log(e): 1})\n",
    "integral_angular = s.integrate(angular_comp, (theta, 0, np.pi))\n",
    "integral_phi = s.integrate(1, (theta, 0, 2*pi))\n",
    "ans = integral_radial * integral_angular * integral_phi\n",
    "ans = s.simplify(ans)\n",
    "ans\n"
   ]
  },
  {
   "cell_type": "markdown",
   "metadata": {},
   "source": [
    "Part B)\n",
    "Expand as a power series in the small number $e"
   ]
  },
  {
   "cell_type": "code",
   "execution_count": 12,
   "metadata": {},
   "outputs": [
    {
     "data": {
      "text/latex": [
       "$\\displaystyle \\frac{a^{2} - \\left(1.0 a^{2} + 2.0 a b + 2.0 b^{2}\\right) \\left(0.166666666666667 E^{3} + 0.5 E^{2} - E + 1.0\\right)}{a^{2}}$"
      ],
      "text/plain": [
       "(a**2 - (1.0*a**2 + 2.0*a*b + 2.0*b**2)*(0.166666666666667*E**3 + 0.5*E**2 - E + 1.0))/a**2"
      ]
     },
     "execution_count": 12,
     "metadata": {},
     "output_type": "execute_result"
    }
   ],
   "source": [
    "from sympy import series\n",
    "E = s.Symbol('E')\n",
    "pw_series = ans.evalf(subs={(2.0*b)/a: E})\n",
    "power_expansion = 1 - E + (E**2)/2 + (E**3)/6\n",
    "pw_series = pw_series.evalf(subs={(e**(-E)): power_expansion})\n",
    "s.simplify(pw_series)"
   ]
  },
  {
   "cell_type": "markdown",
   "metadata": {},
   "source": [
    "The $0.1666666666667E^3$ is our lowest term, the cubic"
   ]
  },
  {
   "cell_type": "code",
   "execution_count": 16,
   "metadata": {},
   "outputs": [
    {
     "data": {
      "text/latex": [
       "$\\displaystyle \\frac{1.33333333333333 b^{3}}{a^{3}}$"
      ],
      "text/plain": [
       "1.33333333333333*b**3/a**3"
      ]
     },
     "execution_count": 16,
     "metadata": {},
     "output_type": "execute_result"
    }
   ],
   "source": [
    "lowest = 1/6 * E**3\n",
    "lowest.evalf(subs={E: 2*b/a})"
   ]
  },
  {
   "cell_type": "markdown",
   "metadata": {},
   "source": [
    "Part C) Assume $psi(r)$ is constant. Solve $(4/3)(b/a)^3 * |psi(0)|^2$"
   ]
  },
  {
   "cell_type": "code",
   "execution_count": 8,
   "metadata": {},
   "outputs": [
    {
     "data": {
      "text/latex": [
       "$\\displaystyle \\frac{1.33333333333333 b^{3}}{\\left(a^{3}\\right)^{1.0}}$"
      ],
      "text/plain": [
       "1.33333333333333*b**3/(a**3)**1.0"
      ]
     },
     "execution_count": 8,
     "metadata": {},
     "output_type": "execute_result"
    }
   ],
   "source": [
    "psi_100.evalf(subs={r: 0, pi: np.pi})**2 * (4/3)*np.pi * b**3"
   ]
  },
  {
   "cell_type": "markdown",
   "metadata": {},
   "source": [
    "Part D) $B ~= 10^-15 m$ and $a ~= 0.5e-10$"
   ]
  },
  {
   "cell_type": "code",
   "execution_count": 9,
   "metadata": {},
   "outputs": [
    {
     "data": {
      "text/latex": [
       "$\\displaystyle 1.0 - \\frac{13.0}{e^{4.0}}$"
      ],
      "text/plain": [
       "1.0 - 13.0/e**4.0"
      ]
     },
     "execution_count": 9,
     "metadata": {},
     "output_type": "execute_result"
    }
   ],
   "source": [
    "estimate = s.simplify(ans.evalf(subs={r: 0, b: 10**-15, a: .5e-15, pi: np.pi}))\n",
    "estimate"
   ]
  },
  {
   "cell_type": "code",
   "execution_count": 10,
   "metadata": {},
   "outputs": [
    {
     "data": {
      "text/latex": [
       "$\\displaystyle 0.761896694446456$"
      ],
      "text/plain": [
       "0.761896694446456"
      ]
     },
     "execution_count": 10,
     "metadata": {},
     "output_type": "execute_result"
    }
   ],
   "source": [
    "estimate.evalf(subs={e: np.e})"
   ]
  }
 ],
 "metadata": {
  "interpreter": {
   "hash": "e7370f93d1d0cde622a1f8e1c04877d8463912d04d973331ad4851f04de6915a"
  },
  "kernelspec": {
   "display_name": "Python 3.8.10 64-bit",
   "language": "python",
   "name": "python3"
  },
  "language_info": {
   "codemirror_mode": {
    "name": "ipython",
    "version": 3
   },
   "file_extension": ".py",
   "mimetype": "text/x-python",
   "name": "python",
   "nbconvert_exporter": "python",
   "pygments_lexer": "ipython3",
   "version": "3.8.10"
  },
  "orig_nbformat": 4
 },
 "nbformat": 4,
 "nbformat_minor": 2
}
