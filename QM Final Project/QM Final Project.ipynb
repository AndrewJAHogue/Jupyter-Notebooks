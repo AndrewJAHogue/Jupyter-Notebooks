{
 "cells": [
  {
   "cell_type": "markdown",
   "metadata": {},
   "source": [
    "Problem 4.54\n",
    "What is the probability that an electron in the ground state of hydrogen will be found inside the nucleus?"
   ]
  },
  {
   "cell_type": "markdown",
   "metadata": {},
   "source": [
    "Part a) Calculate the *exact* answer, assuming the wave function is correct all the way down to $r=0$ let *b* be the radius of the nucleus."
   ]
  },
  {
   "cell_type": "code",
   "execution_count": 43,
   "metadata": {},
   "outputs": [],
   "source": [
    "import sympy as s\n",
    "from sympy.abc import pi, r, a, e, theta, phi, b\n",
    "from sympy import sin, cos\n",
    "from math import pi"
   ]
  },
  {
   "cell_type": "code",
   "execution_count": 35,
   "metadata": {},
   "outputs": [],
   "source": [
    "psi_100 = 1 / ( s.sqrt(pi*a**3) ) * e**(-r/a) # dependent upon r, theta, phi\n",
    "integrand = psi_100 * r**2 * sin(theta)\n"
   ]
  },
  {
   "cell_type": "code",
   "execution_count": 44,
   "metadata": {},
   "outputs": [
    {
     "data": {
      "text/latex": [
       "$\\displaystyle \\begin{cases} \\frac{25.1327412287183 a^{6} \\pi}{\\left(a^{3} \\pi\\right)^{\\frac{3}{2}} \\log{\\left(e \\right)}^{3}} + \\frac{6.28318530717959 e^{- \\frac{b}{a}} \\left(- 2.0 a^{6} \\pi - 2.0 a^{5} b \\pi \\log{\\left(e \\right)} - 1.0 a^{4} b^{2} \\pi \\log{\\left(e \\right)}^{2}\\right)}{\\left(a^{3} \\pi\\right)^{\\frac{3}{2}} \\log{\\left(e \\right)}^{3}} - \\frac{6.28318530717959 e^{- \\frac{b}{a}} \\left(2 a^{6} \\pi + 2 a^{5} b \\pi \\log{\\left(e \\right)} + a^{4} b^{2} \\pi \\log{\\left(e \\right)}^{2}\\right)}{\\left(a^{3} \\pi\\right)^{\\frac{3}{2}} \\log{\\left(e \\right)}^{3}} & \\text{for}\\: \\left(a^{3} \\pi\\right)^{\\frac{3}{2}} \\log{\\left(e \\right)}^{3} \\neq 0 \\\\\\frac{4.18879020478639 b^{3}}{\\sqrt{a^{3} \\pi}} & \\text{otherwise} \\end{cases}$"
      ],
      "text/plain": [
       "Piecewise((25.1327412287183*a**6*pi/((a**3*pi)**(3/2)*log(e)**3) + 6.28318530717959*(-2.0*a**6*pi - 2.0*a**5*b*pi*log(e) - 1.0*a**4*b**2*pi*log(e)**2)/(e**(b/a)*(a**3*pi)**(3/2)*log(e)**3) - 6.28318530717959*(2*a**6*pi + 2*a**5*b*pi*log(e) + a**4*b**2*pi*log(e)**2)/(e**(b/a)*(a**3*pi)**(3/2)*log(e)**3), Ne((a**3*pi)**(3/2)*log(e)**3, 0)), (4.18879020478639*b**3/sqrt(a**3*pi), True))"
      ]
     },
     "execution_count": 44,
     "metadata": {},
     "output_type": "execute_result"
    }
   ],
   "source": [
    "ans = s.integrate(integrand, (r, 0, b))\n",
    "ans = s.integrate(ans, (theta, 0, pi))\n",
    "ans = s.integrate(ans, (phi, 0, 2*pi))\n",
    "ans"
   ]
  }
 ],
 "metadata": {
  "interpreter": {
   "hash": "e7370f93d1d0cde622a1f8e1c04877d8463912d04d973331ad4851f04de6915a"
  },
  "kernelspec": {
   "display_name": "Python 3.8.10 64-bit",
   "language": "python",
   "name": "python3"
  },
  "language_info": {
   "codemirror_mode": {
    "name": "ipython",
    "version": 3
   },
   "file_extension": ".py",
   "mimetype": "text/x-python",
   "name": "python",
   "nbconvert_exporter": "python",
   "pygments_lexer": "ipython3",
   "version": "3.8.10"
  },
  "orig_nbformat": 4
 },
 "nbformat": 4,
 "nbformat_minor": 2
}
