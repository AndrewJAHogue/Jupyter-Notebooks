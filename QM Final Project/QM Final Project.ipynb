{
 "cells": [
  {
   "cell_type": "markdown",
   "metadata": {},
   "source": [
    "Problem 4.54\n",
    "What is the probability that an electron in the ground state of hydrogen will be found inside the nucleus?"
   ]
  },
  {
   "cell_type": "markdown",
   "metadata": {},
   "source": [
    "Part a) Calculate the *exact* answer, assuming the wave function is correct all the way down to $r=0$ let *b* be the radius of the nucleus."
   ]
  },
  {
   "cell_type": "code",
   "execution_count": 1,
   "metadata": {},
   "outputs": [],
   "source": [
    "import sympy as s\n",
    "from sympy.abc import pi, r, a, e, theta, phi, b\n",
    "from sympy import sin, cos\n",
    "import math"
   ]
  },
  {
   "cell_type": "code",
   "execution_count": 2,
   "metadata": {},
   "outputs": [],
   "source": [
    "psi_100 = 1 / ( s.sqrt(pi*a**3) ) * e**(-r/a) # dependent upon r, theta, phi\n",
    "angular_comp = sin(theta)\n",
    "radial_comp = psi_100**2 * r**2 \n",
    "integrand = radial_comp*angular_comp\n"
   ]
  },
  {
   "cell_type": "code",
   "execution_count": 3,
   "metadata": {},
   "outputs": [
    {
     "ename": "NameError",
     "evalue": "name 'ans' is not defined",
     "output_type": "error",
     "traceback": [
      "\u001b[0;31m---------------------------------------------------------------------------\u001b[0m",
      "\u001b[0;31mNameError\u001b[0m                                 Traceback (most recent call last)",
      "\u001b[1;32m/home/al-linux/Documents/Python/Notebooks/QM Final Project/QM Final Project.ipynb Cell 5'\u001b[0m in \u001b[0;36m<cell line: 4>\u001b[0;34m()\u001b[0m\n\u001b[1;32m      <a href='vscode-notebook-cell:/home/al-linux/Documents/Python/Notebooks/QM%20Final%20Project/QM%20Final%20Project.ipynb#ch0000004?line=1'>2</a>\u001b[0m t \u001b[39m=\u001b[39m s\u001b[39m.\u001b[39mintegrate(angular_comp, (theta, \u001b[39m0\u001b[39m, math\u001b[39m.\u001b[39mpi))\n\u001b[1;32m      <a href='vscode-notebook-cell:/home/al-linux/Documents/Python/Notebooks/QM%20Final%20Project/QM%20Final%20Project.ipynb#ch0000004?line=2'>3</a>\u001b[0m p \u001b[39m=\u001b[39m s\u001b[39m.\u001b[39mintegrate(\u001b[39m1\u001b[39m, (theta, \u001b[39m0\u001b[39m, \u001b[39m2\u001b[39m\u001b[39m*\u001b[39mpi))\n\u001b[0;32m----> <a href='vscode-notebook-cell:/home/al-linux/Documents/Python/Notebooks/QM%20Final%20Project/QM%20Final%20Project.ipynb#ch0000004?line=3'>4</a>\u001b[0m ans \u001b[39m*\u001b[39m\u001b[39m=\u001b[39m \u001b[39m2\u001b[39m\u001b[39m*\u001b[39mpi \u001b[39m# phi integration is an integral of 1 from 0 to 2pi which = 2pi\u001b[39;00m\n\u001b[1;32m      <a href='vscode-notebook-cell:/home/al-linux/Documents/Python/Notebooks/QM%20Final%20Project/QM%20Final%20Project.ipynb#ch0000004?line=4'>5</a>\u001b[0m ans \u001b[39m=\u001b[39m r\u001b[39m.\u001b[39margs[\u001b[39m1\u001b[39m][\u001b[39m0\u001b[39m] \u001b[39m*\u001b[39m t \u001b[39m*\u001b[39m p\n\u001b[1;32m      <a href='vscode-notebook-cell:/home/al-linux/Documents/Python/Notebooks/QM%20Final%20Project/QM%20Final%20Project.ipynb#ch0000004?line=5'>6</a>\u001b[0m ans\n",
      "\u001b[0;31mNameError\u001b[0m: name 'ans' is not defined"
     ]
    }
   ],
   "source": [
    "r = s.integrate(radial_comp, (r, 0, b))\n",
    "t = s.integrate(angular_comp, (theta, 0, math.pi))\n",
    "p = s.integrate(1, (theta, 0, 2*pi))\n",
    "# ans *= 2*pi # phi integration is an integral of 1 from 0 to 2pi which = 2pi\n",
    "ans = r.args[1][0] * t * p\n",
    "ans"
   ]
  },
  {
   "cell_type": "code",
   "execution_count": null,
   "metadata": {},
   "outputs": [],
   "source": [
    "\n"
   ]
  }
 ],
 "metadata": {
  "interpreter": {
   "hash": "e7370f93d1d0cde622a1f8e1c04877d8463912d04d973331ad4851f04de6915a"
  },
  "kernelspec": {
   "display_name": "Python 3.8.10 64-bit",
   "language": "python",
   "name": "python3"
  },
  "language_info": {
   "codemirror_mode": {
    "name": "ipython",
    "version": 3
   },
   "file_extension": ".py",
   "mimetype": "text/x-python",
   "name": "python",
   "nbconvert_exporter": "python",
   "pygments_lexer": "ipython3",
   "version": "3.8.10"
  },
  "orig_nbformat": 4
 },
 "nbformat": 4,
 "nbformat_minor": 2
}
