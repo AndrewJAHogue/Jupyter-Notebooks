{
 "cells": [
  {
   "cell_type": "markdown",
   "metadata": {},
   "source": [
    "Problem 4.54\n",
    "What is the probability that an electron in the ground state of hydrogen will be found inside the nucleus?"
   ]
  },
  {
   "cell_type": "markdown",
   "metadata": {},
   "source": [
    "Part a) Calculate the *exact* answer, assuming the wave function is correct all the way down to $r=0$ let *b* be the radius of the nucleus."
   ]
  },
  {
   "cell_type": "code",
   "execution_count": 1,
   "metadata": {},
   "outputs": [],
   "source": [
    "import sympy as s\n",
    "from sympy.abc import pi, r, a, e, theta, phi, b\n",
    "from sympy import sin, cos\n",
    "import math"
   ]
  },
  {
   "cell_type": "code",
   "execution_count": 6,
   "metadata": {},
   "outputs": [],
   "source": [
    "psi_100 = 1 / ( s.sqrt(pi*a**3) ) * e**(-r/a) # dependent upon r, theta, phi\n",
    "integrand = psi_100**2 * r**2 * sin(theta)\n"
   ]
  },
  {
   "cell_type": "code",
   "execution_count": 8,
   "metadata": {},
   "outputs": [
    {
     "data": {
      "text/latex": [
       "$\\displaystyle \\begin{cases} 2 \\pi \\left(- \\frac{\\cos{\\left(\\pi \\right)}}{4 \\pi \\log{\\left(e \\right)}^{3}} + \\frac{1}{4 \\pi \\log{\\left(e \\right)}^{3}} - \\frac{e^{- \\frac{2 b}{a}} \\left(a^{2} + 2 a b \\log{\\left(e \\right)} + 2 b^{2} \\log{\\left(e \\right)}^{2}\\right)}{4 a^{2} \\pi \\log{\\left(e \\right)}^{3}} + \\frac{e^{- \\frac{2 b}{a}} \\left(a^{2} \\cos{\\left(\\pi \\right)} + 2 a b \\log{\\left(e \\right)} \\cos{\\left(\\pi \\right)} + 2 b^{2} \\log{\\left(e \\right)}^{2} \\cos{\\left(\\pi \\right)}\\right)}{4 a^{2} \\pi \\log{\\left(e \\right)}^{3}}\\right) & \\text{for}\\: a^{2} \\pi \\log{\\left(e \\right)}^{3} \\neq 0 \\\\2 \\pi \\left(- \\frac{b^{3} \\cos{\\left(\\pi \\right)}}{3 a^{3} \\pi} + \\frac{b^{3}}{3 a^{3} \\pi}\\right) & \\text{otherwise} \\end{cases}$"
      ],
      "text/plain": [
       "Piecewise((2*pi*(-cos(pi)/(4*pi*log(e)**3) + 1/(4*pi*log(e)**3) - (a**2 + 2*a*b*log(e) + 2*b**2*log(e)**2)/(4*a**2*e**(2*b/a)*pi*log(e)**3) + (a**2*cos(pi) + 2*a*b*log(e)*cos(pi) + 2*b**2*log(e)**2*cos(pi))/(4*a**2*e**(2*b/a)*pi*log(e)**3)), Ne(a**2*pi*log(e)**3, 0)), (2*pi*(-b**3*cos(pi)/(3*a**3*pi) + b**3/(3*a**3*pi)), True))"
      ]
     },
     "execution_count": 8,
     "metadata": {},
     "output_type": "execute_result"
    }
   ],
   "source": [
    "ans = s.integrate(integrand, (r, 0, b))\n",
    "ans = s.integrate(ans, (theta, 0, pi))\n",
    "ans = s.integrate(ans, (phi, 0, 2*pi))\n",
    "ans"
   ]
  }
 ],
 "metadata": {
  "interpreter": {
   "hash": "e7370f93d1d0cde622a1f8e1c04877d8463912d04d973331ad4851f04de6915a"
  },
  "kernelspec": {
   "display_name": "Python 3.8.10 64-bit",
   "language": "python",
   "name": "python3"
  },
  "language_info": {
   "codemirror_mode": {
    "name": "ipython",
    "version": 3
   },
   "file_extension": ".py",
   "mimetype": "text/x-python",
   "name": "python",
   "nbconvert_exporter": "python",
   "pygments_lexer": "ipython3",
   "version": "3.8.10"
  },
  "orig_nbformat": 4
 },
 "nbformat": 4,
 "nbformat_minor": 2
}
