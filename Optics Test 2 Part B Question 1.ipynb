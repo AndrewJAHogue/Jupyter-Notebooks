{
  "cells": [
    {
      "cell_type": "code",
      "execution_count": 1,
      "metadata": {
        "trusted": true
      },
      "outputs": [],
      "source": [
        "import sympy as s\n",
        "from sympy.matrices import Matrix\n",
        "def DistanceMatrix(d):\n",
        "    return Matrix([[1, d], [0, 1]])\n",
        "\n",
        "def RefractionMatrix(R, n1, n2):\n",
        "    return Matrix([[1, 0], [(1/R)*((n1/n2)-1), (n1/n2)]])\n",
        "\n",
        "def ThickLens(R1, R2, n1, n2, d):\n",
        "    return (RefractionMatrix(R2, n2, n1) * DistanceMatrix(d) * RefractionMatrix(R1, n1, n2) )\n",
        "\n",
        "def ThinLens(f):\n",
        "    return Matrix([[1, 0], [(-1/f), 1]])\n",
        "\n",
        "from sympy.abc import theta\n",
        "from sympy import sin\n",
        "def Sylvester(A, B, C, D, N):\n",
        "    return (1/sin(theta))*Matrix([[A*sin(N*theta)-sin(N-1)*theta, B*sin(N*theta)], [C*sin(N*theta), D*sin(N*theta)-sin(N-1)*theta]])"
      ]
    },
    {
      "cell_type": "code",
      "execution_count": 2,
      "metadata": {
        "trusted": true
      },
      "outputs": [],
      "source": [
        "do1, f1, D, di2, f2, d02 = s.symbols('do1, f1, D, di2, f2, do2')"
      ]
    },
    {
      "cell_type": "code",
      "execution_count": 3,
      "metadata": {
        "trusted": true
      },
      "outputs": [
        {
          "data": {
            "text/latex": [
              "$\\displaystyle \\left[\\begin{matrix}- \\frac{di_{2}}{f_{2}} + 1 - \\frac{D \\left(- \\frac{di_{2}}{f_{2}} + 1\\right) + di_{2}}{f_{1}} & D \\left(- \\frac{di_{2}}{f_{2}} + 1\\right) + di_{2} + do_{1} \\left(- \\frac{di_{2}}{f_{2}} + 1 - \\frac{D \\left(- \\frac{di_{2}}{f_{2}} + 1\\right) + di_{2}}{f_{1}}\\right)\\\\- \\frac{1}{f_{2}} - \\frac{- \\frac{D}{f_{2}} + 1}{f_{1}} & - \\frac{D}{f_{2}} + do_{1} \\left(- \\frac{1}{f_{2}} - \\frac{- \\frac{D}{f_{2}} + 1}{f_{1}}\\right) + 1\\end{matrix}\\right]$"
            ],
            "text/plain": [
              "Matrix([\n",
              "[-di2/f2 + 1 - (D*(-di2/f2 + 1) + di2)/f1, D*(-di2/f2 + 1) + di2 + do1*(-di2/f2 + 1 - (D*(-di2/f2 + 1) + di2)/f1)],\n",
              "[                  -1/f2 - (-D/f2 + 1)/f1,                               -D/f2 + do1*(-1/f2 - (-D/f2 + 1)/f1) + 1]])"
            ]
          },
          "execution_count": 3,
          "metadata": {},
          "output_type": "execute_result"
        }
      ],
      "source": [
        "M_di2 = DistanceMatrix(di2)\n",
        "M_l2 = ThinLens(f2)\n",
        "M_d21 = DistanceMatrix(D)\n",
        "M_l1 = ThinLens(f1)\n",
        "M_do1 = DistanceMatrix(do1)\n",
        "M_sys = Matrix(M_di2*M_l2*M_d21*M_l1*M_do1)\n",
        "M_sys"
      ]
    },
    {
      "cell_type": "code",
      "execution_count": 4,
      "metadata": {
        "trusted": true
      },
      "outputs": [],
      "source": [
        "do1 = 30\n",
        "f1 = 10\n",
        "f2 = 5\n",
        "D = 25\n",
        "di1 = 1/((1/f1) - (1/do1))"
      ]
    },
    {
      "cell_type": "code",
      "execution_count": 5,
      "metadata": {
        "trusted": true
      },
      "outputs": [
        {
          "data": {
            "text/latex": [
              "$\\displaystyle \\left[\\begin{matrix}0.2 di_{2} - 1.5 & 2.0 di_{2} - 20.0\\\\0.2 & 2.0\\end{matrix}\\right]$"
            ],
            "text/plain": [
              "Matrix([\n",
              "[0.2*di2 - 1.5, 2.0*di2 - 20.0],\n",
              "[          0.2,            2.0]])"
            ]
          },
          "execution_count": 5,
          "metadata": {},
          "output_type": "execute_result"
        }
      ],
      "source": [
        "M_di2 = DistanceMatrix(di2)\n",
        "M_l2 = ThinLens(f2)\n",
        "M_d21 = DistanceMatrix(D)\n",
        "M_l1 = ThinLens(f1)\n",
        "M_do1 = DistanceMatrix(do1)\n",
        "M_sys = Matrix(M_di2*M_l2*M_d21*M_l1*M_do1)\n",
        "M_sys\n"
      ]
    },
    {
      "cell_type": "code",
      "execution_count": 6,
      "metadata": {},
      "outputs": [
        {
          "name": "stdout",
          "output_type": "stream",
          "text": [
            "2.0*di2 - 20.0 = 0\n",
            "di2 = {10.0}\n",
            "The final image is smaller, {10.0} cm right of the 2nd lens, upright, and real.\n"
          ]
        }
      ],
      "source": [
        "B = M_sys[1]\n",
        "ans = s.solveset(B, di2)\n",
        "print(f'{B} = 0\\ndi2 = {ans}\\nThe final image is smaller, {ans} cm right of the 2nd lens, upright, and real.')"
      ]
    }
  ],
  "metadata": {
    "interpreter": {
      "hash": "e7370f93d1d0cde622a1f8e1c04877d8463912d04d973331ad4851f04de6915a"
    },
    "kernelspec": {
      "display_name": "Pyolite",
      "language": "python",
      "name": "python3"
    },
    "language_info": {
      "codemirror_mode": {
        "name": "ipython",
        "version": 3
      },
      "file_extension": ".py",
      "mimetype": "text/x-python",
      "name": "python",
      "nbconvert_exporter": "python",
      "pygments_lexer": "ipython3",
      "version": "3.8.10"
    }
  },
  "nbformat": 4,
  "nbformat_minor": 4
}
